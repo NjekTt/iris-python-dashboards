{
 "cells": [
  {
   "cell_type": "markdown",
   "metadata": {},
   "source": [
    "# Hello World in Python"
   ]
  },
  {
   "cell_type": "code",
   "execution_count": 1,
   "metadata": {
    "scrolled": false
   },
   "outputs": [
    {
     "name": "stdout",
     "output_type": "stream",
     "text": [
      "hello\n",
      "world3\n"
     ]
    }
   ],
   "source": [
    "print(\"hello\")\n",
    "print(\"world3\")"
   ]
  },
  {
   "cell_type": "markdown",
   "metadata": {},
   "source": [
    "# Interaction between iris and python\n",
    "\n",
    "Show case of opening a persistent class with embedded python.\n",
    "\n",
    "Every “%” in ObjectScript are automatically replace by “_”"
   ]
  },
  {
   "cell_type": "markdown",
   "metadata": {},
   "source": [
    "# SQL request with embedded python"
   ]
  },
  {
   "cell_type": "code",
   "execution_count": 12,
   "metadata": {
    "scrolled": true
   },
   "outputs": [
    {
     "name": "stdout",
     "output_type": "stream",
     "text": [
      "              location  total_cases total_deaths\n",
      "0          Afghanistan     171422.0       7504.0\n",
      "1               Africa   11104836.0     244770.0\n",
      "2              Albania     268491.0       3420.0\n",
      "3              Algeria     262570.0       6753.0\n",
      "4              Andorra      37361.0        150.0\n",
      "..                 ...          ...          ...\n",
      "226  Wallis and Futuna        454.0          7.0\n",
      "227              World  415198318.0    5837260.0\n",
      "228              Yemen      11699.0       2107.0\n",
      "229             Zambia     309870.0       3939.0\n",
      "230           Zimbabwe     231603.0       5374.0\n",
      "\n",
      "[231 rows x 3 columns]\n"
     ]
    }
   ],
   "source": [
    "import iris\n",
    "import pandas as pd\n",
    "\n",
    "def queryToDataFrame(query, column_name):\n",
    "    res = []\n",
    "    \n",
    "    for item in iris.sql.exec(query):\n",
    "        res.append(item)\n",
    "        \n",
    "    return pd.DataFrame(res, columns=column_name)\n",
    "\n",
    "query = \"SELECT location, total_cases, total_deaths FROM Data.Covid19\"\n",
    "column_name = ['location', 'total_cases', 'total_deaths']\n",
    "\n",
    "print(queryToDataFrame(query, column_name))        "
   ]
  },
  {
   "cell_type": "markdown",
   "metadata": {},
   "source": [
    "# How to update a persistent class with Embedded Python"
   ]
  },
  {
   "cell_type": "code",
   "execution_count": 6,
   "metadata": {
    "scrolled": true
   },
   "outputs": [
    {
     "ename": "NameError",
     "evalue": "name 'iris' is not defined",
     "output_type": "error",
     "traceback": [
      "\u001b[0;31m---------------------------------------------------------------------------\u001b[0m",
      "\u001b[0;31mNameError\u001b[0m                                 Traceback (most recent call last)",
      "Input \u001b[0;32mIn [6]\u001b[0m, in \u001b[0;36m<module>\u001b[0;34m\u001b[0m\n\u001b[0;32m----> 1\u001b[0m personOpen \u001b[38;5;241m=\u001b[39m \u001b[43miris\u001b[49m\u001b[38;5;241m.\u001b[39mcls(\u001b[38;5;124m'\u001b[39m\u001b[38;5;124mTitanic.Table.Passenger\u001b[39m\u001b[38;5;124m'\u001b[39m)\u001b[38;5;241m.\u001b[39m_OpenId(\u001b[38;5;241m1\u001b[39m)\n\u001b[1;32m      2\u001b[0m \u001b[38;5;28mprint\u001b[39m(personOpen\u001b[38;5;241m.\u001b[39mname)\n\u001b[1;32m      3\u001b[0m personOpen\u001b[38;5;241m.\u001b[39mname \u001b[38;5;241m=\u001b[39m \u001b[38;5;124m'\u001b[39m\u001b[38;5;124mttoto1\u001b[39m\u001b[38;5;124m'\u001b[39m\n",
      "\u001b[0;31mNameError\u001b[0m: name 'iris' is not defined"
     ]
    }
   ],
   "source": [
    "personOpen = iris.cls('Titanic.Table.Passenger')._OpenId(1)\n",
    "print(personOpen.name)\n",
    "personOpen.name = 'ttoto1'\n",
    "print(personOpen.name)\n",
    "print(personOpen._Save())"
   ]
  },
  {
   "cell_type": "code",
   "execution_count": null,
   "metadata": {},
   "outputs": [],
   "source": []
  },
  {
   "cell_type": "code",
   "execution_count": null,
   "metadata": {},
   "outputs": [],
   "source": []
  },
  {
   "cell_type": "code",
   "execution_count": null,
   "metadata": {},
   "outputs": [],
   "source": []
  }
 ],
 "metadata": {
  "kernelspec": {
   "display_name": "IRIS Python",
   "language": "python",
   "name": "irispython"
  },
  "language_info": {
   "codemirror_mode": {
    "name": "ipython",
    "version": 3
   },
   "file_extension": ".py",
   "mimetype": "text/x-python",
   "name": "python",
   "nbconvert_exporter": "python",
   "pygments_lexer": "ipython3",
   "version": "3.8.10"
  }
 },
 "nbformat": 4,
 "nbformat_minor": 4
}
