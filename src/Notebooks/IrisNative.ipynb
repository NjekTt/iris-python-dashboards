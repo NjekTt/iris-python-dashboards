{
 "cells": [
  {
   "cell_type": "markdown",
   "id": "1d834ca1",
   "metadata": {},
   "source": [
    "# Import iris native api"
   ]
  },
  {
   "cell_type": "code",
   "execution_count": 3,
   "id": "cfc40280",
   "metadata": {},
   "outputs": [],
   "source": [
    "import irisnative"
   ]
  },
  {
   "cell_type": "markdown",
   "id": "81cba700",
   "metadata": {},
   "source": [
    "# Create database connection and IRIS instance"
   ]
  },
  {
   "cell_type": "code",
   "execution_count": 4,
   "id": "f88a841e",
   "metadata": {},
   "outputs": [],
   "source": [
    "connection = irisnative.createConnection(\"localhost\", 1972, \"USER\", \"superuser\", \"SYS\", sharedmemory = True)\n",
    "myIris = irisnative.createIris(connection)"
   ]
  },
  {
   "cell_type": "markdown",
   "id": "bcd4f5ef",
   "metadata": {},
   "source": [
    "# Fetch Object example"
   ]
  },
  {
   "cell_type": "code",
   "execution_count": 17,
   "id": "b3dfb021",
   "metadata": {},
   "outputs": [
    {
     "ename": "AttributeError",
     "evalue": "'IRIS' object has no attribute 'sql'",
     "output_type": "error",
     "traceback": [
      "\u001b[0;31m---------------------------------------------------------------------------\u001b[0m",
      "\u001b[0;31mAttributeError\u001b[0m                            Traceback (most recent call last)",
      "Input \u001b[0;32mIn [17]\u001b[0m, in \u001b[0;36m<module>\u001b[0;34m\u001b[0m\n\u001b[0;32m----> 1\u001b[0m \u001b[38;5;28mprint\u001b[39m(\u001b[43mmyIris\u001b[49m\u001b[38;5;241;43m.\u001b[39;49m\u001b[43msql\u001b[49m)\n",
      "\u001b[0;31mAttributeError\u001b[0m: 'IRIS' object has no attribute 'sql'"
     ]
    }
   ],
   "source": [
    "print(myIris.sql)"
   ]
  },
  {
   "cell_type": "markdown",
   "id": "cf7ad716",
   "metadata": {},
   "source": [
    "# Play with globals"
   ]
  },
  {
   "cell_type": "code",
   "execution_count": 18,
   "id": "bacefa88",
   "metadata": {},
   "outputs": [
    {
     "name": "stdout",
     "output_type": "stream",
     "text": [
      "hello\n"
     ]
    }
   ],
   "source": [
    "myIris.set(\"hello\",\"myGlobal\")\n",
    "print(myIris.get(\"myGlobal\"))"
   ]
  },
  {
   "cell_type": "code",
   "execution_count": null,
   "id": "8a2c6c74",
   "metadata": {},
   "outputs": [],
   "source": []
  },
  {
   "cell_type": "code",
   "execution_count": null,
   "id": "224c4b93",
   "metadata": {},
   "outputs": [],
   "source": []
  },
  {
   "cell_type": "code",
   "execution_count": null,
   "id": "94b1b357",
   "metadata": {},
   "outputs": [],
   "source": []
  },
  {
   "cell_type": "code",
   "execution_count": null,
   "id": "bf8a040f",
   "metadata": {},
   "outputs": [],
   "source": []
  },
  {
   "cell_type": "code",
   "execution_count": null,
   "id": "9e02de55",
   "metadata": {},
   "outputs": [],
   "source": []
  },
  {
   "cell_type": "code",
   "execution_count": null,
   "id": "cac660d4",
   "metadata": {},
   "outputs": [],
   "source": []
  },
  {
   "cell_type": "code",
   "execution_count": null,
   "id": "63a1b816",
   "metadata": {},
   "outputs": [],
   "source": []
  },
  {
   "cell_type": "code",
   "execution_count": null,
   "id": "35a3634a",
   "metadata": {},
   "outputs": [],
   "source": []
  }
 ],
 "metadata": {
  "kernelspec": {
   "display_name": "Python 3 (ipykernel)",
   "language": "python",
   "name": "python3"
  },
  "language_info": {
   "codemirror_mode": {
    "name": "ipython",
    "version": 3
   },
   "file_extension": ".py",
   "mimetype": "text/x-python",
   "name": "python",
   "nbconvert_exporter": "python",
   "pygments_lexer": "ipython3",
   "version": "3.8.10"
  }
 },
 "nbformat": 4,
 "nbformat_minor": 5
}
